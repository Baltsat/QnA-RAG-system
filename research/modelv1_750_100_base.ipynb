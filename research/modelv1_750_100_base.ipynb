{
  "cells": [
    {
      "cell_type": "code",
      "execution_count": 1,
      "metadata": {
        "colab": {
          "base_uri": "https://localhost:8080/"
        },
        "collapsed": true,
        "id": "tvN9hcuvP_LW",
        "outputId": "2e4780f8-c4bc-4fb3-b849-e1b0218f2ec2"
      },
      "outputs": [],
      "source": [
        "# !pip install -U langchain\n",
        "# !pip install -U langchain-community\n",
        "# !pip install -U chromadb\n",
        "# !pip install -U sentence-transformers tqdm\n",
        "# !pip install -U datasets\n",
        "# !pip  install -U langchain_experimental\n",
        "# !pip install ragas\n"
      ]
    },
    {
      "cell_type": "code",
      "execution_count": 2,
      "metadata": {
        "colab": {
          "base_uri": "https://localhost:8080/"
        },
        "id": "PAOFHQD6jBxR",
        "outputId": "7060fda2-7480-4b80-8029-fd84e787a451"
      },
      "outputs": [
        {
          "name": "stderr",
          "output_type": "stream",
          "text": [
            "USER_AGENT environment variable not set, consider setting it to identify your requests.\n",
            "/home/ubuntu/itmo_productrag/.venv/lib/python3.10/site-packages/tqdm/auto.py:21: TqdmWarning: IProgress not found. Please update jupyter and ipywidgets. See https://ipywidgets.readthedocs.io/en/stable/user_install.html\n",
            "  from .autonotebook import tqdm as notebook_tqdm\n"
          ]
        }
      ],
      "source": [
        "from langchain.document_loaders import DirectoryLoader\n",
        "from langchain.embeddings.openai import OpenAIEmbeddings\n",
        "from langchain.text_splitter import RecursiveCharacterTextSplitter\n",
        "from langchain.vectorstores import Chroma\n",
        "from langchain.retrievers import ParentDocumentRetriever\n",
        "from langchain.storage import InMemoryStore\n",
        "from langchain.document_loaders import WebBaseLoader\n",
        "from langchain.prompts import PromptTemplate\n",
        "from langchain.chat_models import ChatOpenAI\n",
        "import os\n",
        "import torch\n",
        "from langchain.text_splitter import (\n",
        "    CharacterTextSplitter,\n",
        "    RecursiveCharacterTextSplitter,\n",
        "    SentenceTransformersTokenTextSplitter,\n",
        "    TextSplitter,\n",
        "    TokenTextSplitter,\n",
        ")\n",
        "from langchain_community.document_loaders import TextLoader\n",
        "from langchain_community.vectorstores import Chroma\n",
        "from langchain.embeddings import HuggingFaceEmbeddings\n",
        "from tqdm import tqdm\n",
        "import pandas as pd\n",
        "import time\n",
        "import logging\n",
        "from datasets import Dataset\n",
        "\n",
        "import os\n",
        "import torch\n",
        "from langchain.text_splitter import (\n",
        "    CharacterTextSplitter,\n",
        "    RecursiveCharacterTextSplitter,\n",
        "    SentenceTransformersTokenTextSplitter,\n",
        "    TextSplitter,\n",
        "    TokenTextSplitter,\n",
        ")\n",
        "from langchain_community.document_loaders import TextLoader\n",
        "from langchain_community.vectorstores import Chroma\n",
        "from langchain.embeddings import HuggingFaceEmbeddings\n",
        "from tqdm import tqdm\n",
        "from ragas.metrics import (\n",
        "    answer_relevancy,\n",
        "    faithfulness,\n",
        "    context_recall,\n",
        "    context_precision,\n",
        "    answer_correctness\n",
        ")\n",
        "from ragas import evaluate\n",
        "import pandas as pd\n",
        "import time\n",
        "import logging\n",
        "from datasets import Dataset\n",
        "import chromadb\n",
        "from chromadb.config import Settings"
      ]
    },
    {
      "cell_type": "code",
      "execution_count": 3,
      "metadata": {
        "id": "faJbqIpH9_nB"
      },
      "outputs": [],
      "source": [
        "import hashlib\n",
        "\n",
        "file_path = '../data/hmao_npa_cleaned_v2.txt'\n",
        "db_dir = '../db'\n",
        "\n",
        "f = open(file_path, \"rb\")\n",
        "\n",
        "def calculate_sha256(file):\n",
        "    sha256 = hashlib.sha256()\n",
        "    for chunk in iter(lambda: file.read(8192), b\"\"):\n",
        "        sha256.update(chunk)\n",
        "    return sha256.hexdigest()\n",
        "\n",
        "\n",
        "collection_name = 'modelv1_750_100_base'\n",
        "\n",
        "# Read the text content from the file\n",
        "loader = TextLoader(file_path)\n",
        "documents = loader.load()"
      ]
    },
    {
      "cell_type": "code",
      "execution_count": 4,
      "metadata": {
        "colab": {
          "base_uri": "https://localhost:8080/"
        },
        "id": "dLyYsYvEPRNS",
        "outputId": "8aed5341-e8d1-4c17-e01f-58dff846fc53"
      },
      "outputs": [
        {
          "name": "stdout",
          "output_type": "stream",
          "text": [
            "cuda\n"
          ]
        },
        {
          "name": "stderr",
          "output_type": "stream",
          "text": [
            "No sentence-transformers model found with name ianssens/e5-model-rag. Creating a new one with mean pooling.\n",
            "/tmp/ipykernel_736592/193634173.py:26: LangChainDeprecationWarning: The class `Chroma` was deprecated in LangChain 0.2.9 and will be removed in 1.0. An updated version of the class exists in the langchain-chroma package and should be used instead. To use it run `pip install -U langchain-chroma` and import as `from langchain_chroma import Chroma`.\n",
            "  db = Chroma(\n"
          ]
        }
      ],
      "source": [
        "from langchain_huggingface import HuggingFaceEmbeddings\n",
        "\n",
        "model_name = \"ianssens/e5-model-rag\"\n",
        "device = 'cuda' if torch.cuda.is_available() else 'cpu'\n",
        "\n",
        "print(device)\n",
        "\n",
        "# Initialize embeddings\n",
        "embedding_model = HuggingFaceEmbeddings(\n",
        "    model_name=model_name,\n",
        "    model_kwargs={'device': device}\n",
        ")\n",
        "\n",
        "client = chromadb.HttpClient(\n",
        "        host='localhost',\n",
        "        port=8000,\n",
        "        ssl=False,\n",
        "        headers=None,\n",
        "        settings=Settings(),\n",
        "        tenant=chromadb.DEFAULT_TENANT,\n",
        "        database=chromadb.DEFAULT_DATABASE,\n",
        "    )\n",
        "\n",
        "\n",
        "# Create Langchain Chroma wrapper\n",
        "db = Chroma(\n",
        "    client=client,\n",
        "    collection_name=collection_name,\n",
        "    embedding_function=embedding_model\n",
        ")"
      ]
    },
    {
      "cell_type": "code",
      "execution_count": 5,
      "metadata": {
        "colab": {
          "background_save": true
        },
        "id": "ID6zfHXhjQmr",
        "outputId": "28a4fcf4-a273-4ad4-d516-b28b1039ae33"
      },
      "outputs": [
        {
          "name": "stderr",
          "output_type": "stream",
          "text": [
            "Adding documents: 100%|██████████| 33789/33789 [22:29<00:00, 25.04it/s]\n"
          ]
        },
        {
          "name": "stdout",
          "output_type": "stream",
          "text": [
            "Connected to Chroma collection: modelv1_750_100_base\n",
            "Number of documents in collection: 33789\n"
          ]
        }
      ],
      "source": [
        "from langchain.embeddings import HuggingFaceEmbeddings\n",
        "from langchain.vectorstores import Chroma\n",
        "from langchain.text_splitter import RecursiveCharacterTextSplitter\n",
        "from tqdm import tqdm  # Add tqdm for progress tracking\n",
        "\n",
        "# Assuming 'documents' is a list of your documents\n",
        "rec_char_splitter = RecursiveCharacterTextSplitter(chunk_size=750, chunk_overlap=100)\n",
        "docs = rec_char_splitter.split_documents(documents)\n",
        "\n",
        "# Use tqdm to add a progress bar for adding documents\n",
        "for doc in tqdm(docs, desc=\"Adding documents\"):\n",
        "    db.add_documents([doc])\n",
        "\n",
        "print(f\"Connected to Chroma collection: {collection_name}\")\n",
        "print(f\"Number of documents in collection: {db._collection.count()}\")\n"
      ]
    },
    {
      "cell_type": "code",
      "execution_count": 6,
      "metadata": {
        "colab": {
          "background_save": true
        },
        "id": "uhUUCypR1Mqr",
        "outputId": "e6bb55f5-8bbf-4137-a983-dd4488149b88"
      },
      "outputs": [
        {
          "name": "stdout",
          "output_type": "stream",
          "text": [
            "\n",
            "--- Querying the Vector Store modelv1_750_100_base ---\n",
            "\n",
            "--- Relevant Documents for modelv1_750_100_base ---\n",
            "Document 1:\n",
            "уполномоченным представителем юридического лица, индивидуальным предпринимателем или уполномоченным представителем индивидуального предпринимателя определяют круг лиц, с которыми будет осуществляться взаимодействие в ходе проверки, уточняет перечень документов, возможность с их ознакомлением, а также временной режим проверки (с учетом действующего режима работы юридического лица, индивидуального предпринимателя). 3.12.5. В ходе проверки осуществляются: визуальный осмотр территории, находящейся в пользовании юридического лица, индивидуального предпринимателя; анализ документов и представленной информации; иные мероприятия по надзору, предусмотренные Федеральным законом отдекабрягода N 294-ФЗ. 3.12.5.1. Визуальный осмотр территории,\n",
            "\n",
            "Source: ../data/hmao_npa_cleaned_v2.txt\n",
            "\n",
            "Document 2:\n",
            "лицу или уполномоченному представителю юридического лица, индивидуальному предпринимателю, уполномоченному представителю индивидуального предпринимателя под расписку об ознакомлении либо об отказе в ознакомлении с актом проверки. В случае отсутствия руководителя, иного должностного лица или уполномоченного представителя юридического лица, индивидуального предпринимателя или уполномоченного представителя индивидуального предпринимателя, а также в случае отказа указанных лиц дать расписку об ознакомлении либо об отказе в ознакомлении с актом проверки, акт проверки с копиями приложений направляется в адрес юридического лица (места жительства индивидуального предпринимателя) заказным почтовым отправлением с уведомлением о вручении, которое\n",
            "\n",
            "Source: ../data/hmao_npa_cleaned_v2.txt\n",
            "\n",
            "Document 3:\n",
            "6) не препятствовать руководителю, иному должностному лицу или уполномоченному представителю юридического лица, индивидуальному предпринимателю, его уполномоченному представителю присутствовать при проведении проверки и давать разъяснения по вопросам, относящимся к предмету проверки; 7) предоставлять руководителю, иному должностному лицу или уполномоченному представителю юридического лица, индивидуальному предпринимателю, его уполномоченному представителю, присутствующим при проведении проверки, информацию и документы, относящиеся к предмету проверки; 8) знакомить руководителя, иное должностное лицо или уполномоченного представителя юридического лица, индивидуального предпринимателя, его уполномоченного представителя с результатами\n",
            "\n",
            "Source: ../data/hmao_npa_cleaned_v2.txt\n",
            "\n",
            "Document 4:\n",
            "предпринимателю, уполномоченному представителю индивидуального предпринимателя, присутствующим при проведении проверки, информацию и документы, относящиеся к ее предмету; 7) знакомить руководителя, иное должностное лицо или уполномоченного представителя юридического лица, индивидуального предпринимателя или уполномоченного представителя индивидуального предпринимателя с результатами проведения проверки; 8) при определении мер, принимаемых по фактам выявленных нарушений, учитывать их соответствие тяжести совершенных нарушений, их потенциальной опасности для жизни, здоровья, окружающей среды и имущества, а также не допускать необоснованные ограничения прав и законных интересов граждан, юридических лиц, индивидуальных предпринимателей; 9)\n",
            "\n",
            "Source: ../data/hmao_npa_cleaned_v2.txt\n",
            "\n",
            "Document 5:\n",
            "Минэкономразвития Российской Федерации отапрелягода N\"О реализации положений Федерального закона \"О защите прав юридических лиц и индивидуальных предпринимателей при осуществлении государственного контроля (надзора) и муниципального контроля\", Административным регламентом. 17. Акт проверки оформляется непосредственно после ее завершения в двух экземплярах, один из которых с копиями приложений вручается руководителю, иному должностному лицу или уполномоченному представителю юридического лица, индивидуальному предпринимателю, его уполномоченному представителю под расписку об ознакомлении либо об отказе в ознакомлении с актом проверки. В случае отсутствия руководителя, иного должностного лица или уполномоченного представителя юридического\n",
            "\n",
            "Source: ../data/hmao_npa_cleaned_v2.txt\n",
            "\n"
          ]
        }
      ],
      "source": [
        "def query_vector_store(\n",
        "    store_name, query, embedding_function, search_type, search_kwargs\n",
        "):\n",
        "      print(f\"\\n--- Querying the Vector Store {store_name} ---\")\n",
        "      retriever = db.as_retriever(\n",
        "          search_type=search_type,\n",
        "          search_kwargs=search_kwargs,\n",
        "      )\n",
        "      relevant_docs = retriever.invoke(query)\n",
        "      # Display the relevant results with metadata\n",
        "      print(f\"\\n--- Relevant Documents for {store_name} ---\")\n",
        "      for i, doc in enumerate(relevant_docs, 1):\n",
        "          print(f\"Document {i}:\\n{doc.page_content}\\n\")\n",
        "          if doc.metadata:\n",
        "              print(f\"Source: {doc.metadata.get('source', 'Unknown')}\\n\")\n",
        "\n",
        "\n",
        "query = \"Как осуществляется представление информации в ходе проверки юридического лица или индивидуального предпринимателя?\"\n",
        "\n",
        "query_vector_store(\n",
        "    collection_name,\n",
        "    query,\n",
        "    embedding_model,\n",
        "    \"similarity\",\n",
        "    {\"k\": 5},\n",
        ")"
      ]
    },
    {
      "cell_type": "code",
      "execution_count": 7,
      "metadata": {
        "colab": {
          "background_save": true
        },
        "id": "6oLgb5njb8SZ",
        "outputId": "98a84d09-f117-434d-b7c8-5f7e2c0c8bce"
      },
      "outputs": [
        {
          "name": "stdout",
          "output_type": "stream",
          "text": [
            "\n",
            "--- Relevant Documents ---\n",
            "Document 1:\n",
            "уполномоченным представителем юридического лица, индивидуальным предпринимателем или уполномоченным представителем индивидуального предпринимателя определяют круг лиц, с которыми будет осуществляться взаимодействие в ходе проверки, уточняет перечень документов, возможность с их ознакомлением, а также временной режим проверки (с учетом действующего режима работы юридического лица, индивидуального предпринимателя). 3.12.5. В ходе проверки осуществляются: визуальный осмотр территории, находящейся в пользовании юридического лица, индивидуального предпринимателя; анализ документов и представленной информации; иные мероприятия по надзору, предусмотренные Федеральным законом отдекабрягода N 294-ФЗ. 3.12.5.1. Визуальный осмотр территории,\n",
            "\n",
            "Document 2:\n",
            "лицу или уполномоченному представителю юридического лица, индивидуальному предпринимателю, уполномоченному представителю индивидуального предпринимателя под расписку об ознакомлении либо об отказе в ознакомлении с актом проверки. В случае отсутствия руководителя, иного должностного лица или уполномоченного представителя юридического лица, индивидуального предпринимателя или уполномоченного представителя индивидуального предпринимателя, а также в случае отказа указанных лиц дать расписку об ознакомлении либо об отказе в ознакомлении с актом проверки, акт проверки с копиями приложений направляется в адрес юридического лица (места жительства индивидуального предпринимателя) заказным почтовым отправлением с уведомлением о вручении, которое\n",
            "\n",
            "Document 3:\n",
            "6) не препятствовать руководителю, иному должностному лицу или уполномоченному представителю юридического лица, индивидуальному предпринимателю, его уполномоченному представителю присутствовать при проведении проверки и давать разъяснения по вопросам, относящимся к предмету проверки; 7) предоставлять руководителю, иному должностному лицу или уполномоченному представителю юридического лица, индивидуальному предпринимателю, его уполномоченному представителю, присутствующим при проведении проверки, информацию и документы, относящиеся к предмету проверки; 8) знакомить руководителя, иное должностное лицо или уполномоченного представителя юридического лица, индивидуального предпринимателя, его уполномоченного представителя с результатами\n",
            "\n",
            "\n",
            "--- Generated Response ---\n",
            "Content only:\n",
            "Представление информации в ходе проверки юридического лица или индивидуального предпринимателя осуществляется следующим образом:\n",
            "\n",
            "1. Уполномоченные представители юридического лица или индивидуального предпринимателя определяют круг лиц для взаимодействия в ходе проверки, уточняют перечень документов и возможность с ними ознакомиться, а также устанавливают временной режим проверки, учитывая режим работы юридического лица или индивидуального предпринимателя.\n",
            "\n",
            "2. В ходе проверки проводятся следующие мероприятия:\n",
            "   - Визуальный осмотр территории, находящейся в пользовании юридического лица или индивидуального предпринимателя.\n",
            "   - Анализ документов и представленной информации.\n",
            "   - Иные мероприятия по надзору, предусмотренные Федеральным законом от 26 декабря 2008 года N 294-ФЗ.\n",
            "\n",
            "3. При проведении проверки уполномоченные лица имеют право:\n",
            "   - Присутствовать при проведении проверки и давать разъяснения по вопросам, относящимся к предмету проверки.\n",
            "   - Получать информацию и документы, относящиеся к предмету проверки.\n",
            "   - Ознакомиться с результатами проверки.\n",
            "\n",
            "4. Акт проверки предоставляется лицу или уполномоченному представителю под расписку об ознакомлении или об отказе в ознакомлении. В случае отсутствия уполномоченных лиц или их отказа дать расписку, акт проверки направляется в адрес юридического лица или индивидуального предпринимателя заказным почтовым отправлением с уведомлением о вручении.\n",
            "\n",
            "Таким образом, представление информации подразумевает активное взаимодействие между проверяющими и проверяемыми лицами, а также соблюдение процедур, предусмотренных законодательством.\n"
          ]
        }
      ],
      "source": [
        "import os\n",
        "\n",
        "from dotenv import load_dotenv\n",
        "from langchain_community.vectorstores import Chroma\n",
        "from langchain_core.messages import HumanMessage, SystemMessage\n",
        "from langchain_openai import ChatOpenAI, OpenAIEmbeddings\n",
        "\n",
        "\n",
        "query = \"Как осуществляется представление информации в ходе проверки юридического лица или индивидуального предпринимателя?\"\n",
        "\n",
        "# Retrieve relevant documents based on the query\n",
        "retriever = db.as_retriever(\n",
        "    search_type=\"similarity\",\n",
        "    search_kwargs={\"k\": 3},\n",
        ")\n",
        "relevant_docs = retriever.invoke(query)\n",
        "\n",
        "# Display the relevant results with metadata\n",
        "print(\"\\n--- Relevant Documents ---\")\n",
        "for i, doc in enumerate(relevant_docs, 1):\n",
        "    print(f\"Document {i}:\\n{doc.page_content}\\n\")\n",
        "\n",
        "# Combine the query and the relevant document contents\n",
        "combined_input = (\n",
        "    \"Вот несколько документов, которые могут помочь ответить на вопрос: \"\n",
        "    + query\n",
        "    + \"\\n\\nСоответствующие документы:\\n\"\n",
        "    + \"\\n\\n\".join([doc.page_content for doc in relevant_docs])\n",
        "    + \"\\n\\nПожалуйста, предоставьте ответ, основываясь только на предоставленных документах. Если ответ не найден в документах, ответьте 'Я не уверен'.\"\n",
        ")\n",
        "\n",
        "model = ChatOpenAI(model=\"gpt-4o-mini\", api_key=\"sk-or-vv-678cbad362790622377958c8beb4937642cfb7083ee6cfce2d62886dc4b86326\", base_url=\"https://api.vsegpt.ru/v1\")\n",
        "messages = [\n",
        "    SystemMessage(content=\"Ты ассистент отвечающий на вопросы по информации которая есть в нормативно-правовых-актах\"),\n",
        "    HumanMessage(content=combined_input),\n",
        "]\n",
        "\n",
        "# Invoke the model with the combined input\n",
        "result = model.invoke(messages)\n",
        "\n",
        "# Display the full result and content only\n",
        "print(\"\\n--- Generated Response ---\")\n",
        "# print(\"Full result:\")\n",
        "# print(result)\n",
        "print(\"Content only:\")\n",
        "print(result.content)"
      ]
    },
    {
      "cell_type": "code",
      "execution_count": 8,
      "metadata": {
        "colab": {
          "background_save": true
        },
        "id": "LzLOLCwcapuC"
      },
      "outputs": [],
      "source": [
        "import os\n",
        "from ragas.metrics import (\n",
        "    answer_relevancy,\n",
        "    faithfulness,\n",
        "    context_recall,\n",
        "    context_precision,\n",
        "    answer_correctness\n",
        ")\n",
        "os.environ[\"OPENAI_API_KEY\"] = \"sk-or-vv-678cbad362790622377958c8beb4937642cfb7083ee6cfce2d62886dc4b86326\"\n",
        "os.environ[\"OPENAI_API_BASE\"] = \"https://api.vsegpt.ru/v1\""
      ]
    },
    {
      "cell_type": "code",
      "execution_count": 12,
      "metadata": {
        "colab": {
          "background_save": true
        },
        "id": "HY75VztYxhni"
      },
      "outputs": [],
      "source": [
        "class Evaluator:\n",
        "    \"\"\"\n",
        "    Class for evaluating pipeline on test set.\n",
        "    \"\"\"\n",
        "    def __init__(self, test_set_path: str):\n",
        "        self.raw_test_data = pd.read_excel(test_set_path).drop(columns=['contexts', 'evolution_type', 'metadata', 'episode_done'])\n",
        "        self.test_data = self.raw_test_data.sample(n=50, random_state=42)\n",
        "        print(f\"Test data size {self.test_data.shape}\")\n",
        "\n",
        "    def evaluate_pipe(self, pipeline) -> None:\n",
        "        \"\"\"\n",
        "        Evaluate pipeline on test set.\n",
        "        \"\"\"\n",
        "        answers = []\n",
        "        contexts = []\n",
        "        times = []\n",
        "        for item in tqdm(self.test_data['question'].values):\n",
        "            start_time = time.time()\n",
        "            result = pipeline(item)\n",
        "            end_time = time.time()\n",
        "            answers.append(result['answer'])\n",
        "            contexts.append(result['context'])\n",
        "            times.append(end_time - start_time)\n",
        "\n",
        "        mean_time = sum(times) / len(times)\n",
        "        print(f\"Mean time for getting answer: {mean_time}\")\n",
        "\n",
        "        test_answers = self.test_data\n",
        "        test_answers['answer'] = answers\n",
        "        test_answers['contexts'] = contexts\n",
        "        test_answers.to_csv(\"answers.csv\")\n",
        "        dataset = Dataset.from_dict(test_answers.to_dict(orient='list'))\n",
        "\n",
        "        result = evaluate(\n",
        "            dataset,\n",
        "            metrics=[\n",
        "                context_precision,\n",
        "                faithfulness,\n",
        "                answer_relevancy,\n",
        "                context_recall,\n",
        "                answer_correctness\n",
        "            ],\n",
        "        )\n",
        "        df = result.to_pandas()\n",
        "        df['mean_time'] = mean_time\n",
        "        df.to_csv(f'results_{pipeline.__class__.__name__}.csv')\n",
        "        print(f\"Saved results to 'results_{pipeline.__class__.__name__}.csv'\")\n",
        "        print(f\"Metrics: {result}\")"
      ]
    },
    {
      "cell_type": "code",
      "execution_count": 13,
      "metadata": {
        "colab": {
          "background_save": true
        },
        "id": "-b1UZakFxaUy",
        "outputId": "8c8739c2-4e74-4bed-f13f-7f14af22780d"
      },
      "outputs": [
        {
          "name": "stdout",
          "output_type": "stream",
          "text": [
            "Test data size (50, 2)\n"
          ]
        }
      ],
      "source": [
        "evaler = Evaluator(\"../data/v2_ragas_npa_dataset_firstPart.xlsx\")"
      ]
    },
    {
      "cell_type": "code",
      "execution_count": 14,
      "metadata": {
        "colab": {
          "background_save": true
        },
        "id": "w3Ek5f4Hw1oF"
      },
      "outputs": [],
      "source": [
        "def get_answer(question):\n",
        "  retriever = db.as_retriever(\n",
        "    search_type=\"similarity\",\n",
        "    search_kwargs={\"k\": 8},\n",
        "  )\n",
        "  relevant_docs = retriever.invoke(question)\n",
        "\n",
        "  # request(localhost.com)\n",
        "\n",
        "  # print(\"\\n--- Relevant Documents ---\")\n",
        "  cont = []\n",
        "  for i, doc in enumerate(relevant_docs, 8):\n",
        "      cont.append(doc.page_content)\n",
        "\n",
        "  combined_input = (\n",
        "      \"Вот несколько документов, которые могут помочь ответить на вопрос: \"\n",
        "      + question\n",
        "      + \"\\n\\nСоответствующие документы:\\n\"\n",
        "      + \"\\n\\n\".join([doc.page_content for doc in relevant_docs])\n",
        "      + \"\\n\\nПожалуйста, предоставьте ответ, основываясь только на предоставленных документах. Если ответ не найден в документах, ответьте 'Я не уверен'.\"\n",
        "  )\n",
        "\n",
        "  model = ChatOpenAI(model=\"gpt-4o-mini\", openai_api_key=\"sk-or-vv-678cbad362790622377958c8beb4937642cfb7083ee6cfce2d62886dc4b86326\", base_url=\"https://api.vsegpt.ru/v1\")\n",
        "\n",
        "  messages = [\n",
        "      SystemMessage(content=\"Ты ассистент отвечающий на вопросы по информации которая есть в нормативно-правовых-актах\"),\n",
        "      HumanMessage(content=combined_input),\n",
        "  ]\n",
        "\n",
        "  # Invoke the model with the combined input\n",
        "  result = model.invoke(messages)\n",
        "  return {\"answer\": result.content, \"context\": cont}"
      ]
    },
    {
      "cell_type": "markdown",
      "metadata": {
        "id": "IGo0_UEAbRIy"
      },
      "source": []
    },
    {
      "cell_type": "markdown",
      "metadata": {
        "id": "lUFNmAZDbRJ_"
      },
      "source": []
    },
    {
      "cell_type": "markdown",
      "metadata": {
        "id": "V_lhEt5hbRAL"
      },
      "source": []
    },
    {
      "cell_type": "code",
      "execution_count": 15,
      "metadata": {
        "id": "VE_ILBAlwzmL"
      },
      "outputs": [
        {
          "name": "stderr",
          "output_type": "stream",
          "text": [
            "100%|██████████| 50/50 [03:43<00:00,  4.46s/it]\n"
          ]
        },
        {
          "name": "stdout",
          "output_type": "stream",
          "text": [
            "Mean time for getting answer: 4.459153871536255\n"
          ]
        },
        {
          "name": "stderr",
          "output_type": "stream",
          "text": [
            "Evaluating:  16%|█▋        | 41/250 [01:19<04:21,  1.25s/it]Exception raised in Job[143]: BadRequestError(Error code: 400 - {'error': {'message': 'Potentially out of budget: 61924->700, expected price 1.29448, but you have only 1.220181 on account. Please, add some money to balance to proceed: https://vsegpt.ru/User/Money', 'code': 400}})\n",
            "Evaluating:  17%|█▋        | 43/250 [01:24<05:31,  1.60s/it]Exception raised in Job[210]: BadRequestError(Error code: 400 - {'error': {'message': 'Potentially out of budget: 17198->700, expected price 0.39996, but you have only -0.235329 on account. Please, add some money to balance to proceed: https://vsegpt.ru/User/Money', 'code': 400}})\n",
            "Evaluating:  18%|█▊        | 44/250 [01:24<04:13,  1.23s/it]Exception raised in Job[72]: BadRequestError(Error code: 400 - {'error': {'message': 'Potentially out of budget: 132->700, expected price 0.00396, but you have only -1.195829 on account. Please, add some money to balance to proceed: https://vsegpt.ru/User/Money', 'code': 400}})\n",
            "Evaluating:  18%|█▊        | 45/250 [01:24<03:11,  1.07it/s]Exception raised in Job[217]: BadRequestError(Error code: 400 - {'error': {'message': 'Potentially out of budget: 131->700, expected price 0.00393, but you have only -2.329029 on account. Please, add some money to balance to proceed: https://vsegpt.ru/User/Money', 'code': 400}})\n",
            "Evaluating:  18%|█▊        | 46/250 [01:24<02:35,  1.31it/s]Exception raised in Job[216]: BadRequestError(Error code: 400 - {'error': {'message': 'Potentially out of budget: 61320->700, expected price 1.2824, but you have only -2.352279 on account. Please, add some money to balance to proceed: https://vsegpt.ru/User/Money', 'code': 400}})\n",
            "Evaluating:  19%|█▉        | 48/250 [01:25<01:54,  1.77it/s]Exception raised in Job[146]: BadRequestError(Error code: 400 - {'error': {'message': 'Potentially out of budget: 26674->700, expected price 0.58948, but you have only -2.352279 on account. Please, add some money to balance to proceed: https://vsegpt.ru/User/Money', 'code': 400}})\n",
            "Evaluating:  20%|█▉        | 49/250 [01:26<02:17,  1.47it/s]Exception raised in Job[73]: BadRequestError(Error code: 400 - {'error': {'message': 'Potentially out of budget: 46348->700, expected price 0.98296, but you have only -2.352279 on account. Please, add some money to balance to proceed: https://vsegpt.ru/User/Money', 'code': 400}})\n",
            "Exception raised in Job[0]: BadRequestError(Error code: 400 - {'error': {'message': 'Potentially out of budget: 9679->700, expected price 0.24958, but you have only -2.352279 on account. Please, add some money to balance to proceed: https://vsegpt.ru/User/Money', 'code': 400}})\n",
            "Evaluating:  20%|██        | 51/250 [01:27<01:53,  1.76it/s]Exception raised in Job[135]: BadRequestError(Error code: 400 - {'error': {'message': 'Potentially out of budget: 11015->700, expected price 0.2763, but you have only -2.352279 on account. Please, add some money to balance to proceed: https://vsegpt.ru/User/Money', 'code': 400}})\n",
            "Exception raised in Job[215]: BadRequestError(Error code: 400 - {'error': {'message': 'Potentially out of budget: 14840->700, expected price 0.3528, but you have only -2.352279 on account. Please, add some money to balance to proceed: https://vsegpt.ru/User/Money', 'code': 400}})\n",
            "Evaluating:  21%|██        | 53/250 [01:27<01:19,  2.49it/s]Exception raised in Job[219]: BadRequestError(Error code: 400 - {'error': {'message': 'Potentially out of budget: 18483->700, expected price 0.42566, but you have only -2.352279 on account. Please, add some money to balance to proceed: https://vsegpt.ru/User/Money', 'code': 400}})\n",
            "Exception raised in Job[76]: BadRequestError(Error code: 400 - {'error': {'message': 'Potentially out of budget: 19288->700, expected price 0.44176, but you have only -2.352279 on account. Please, add some money to balance to proceed: https://vsegpt.ru/User/Money', 'code': 400}})\n",
            "Evaluating:  22%|██▏       | 55/250 [01:28<01:25,  2.29it/s]Exception raised in Job[220]: BadRequestError(Error code: 400 - {'error': {'message': 'Potentially out of budget: 9751->700, expected price 0.25102, but you have only -2.352279 on account. Please, add some money to balance to proceed: https://vsegpt.ru/User/Money', 'code': 400}})\n",
            "Exception raised in Job[75]: BadRequestError(Error code: 400 - {'error': {'message': 'Potentially out of budget: 13155->700, expected price 0.3191, but you have only -3.166939 on account. Please, add some money to balance to proceed: https://vsegpt.ru/User/Money', 'code': 400}})\n",
            "Evaluating:  23%|██▎       | 57/250 [01:29<01:31,  2.12it/s]Exception raised in Job[218]: BadRequestError(Error code: 400 - {'error': {'message': 'Potentially out of budget: 56276->700, expected price 1.18152, but you have only -3.166939 on account. Please, add some money to balance to proceed: https://vsegpt.ru/User/Money', 'code': 400}})\n",
            "Evaluating:  23%|██▎       | 58/250 [01:30<01:50,  1.74it/s]Exception raised in Job[74]: BadRequestError(Error code: 400 - {'error': {'message': 'Potentially out of budget: 11534->700, expected price 0.28668, but you have only -3.577019 on account. Please, add some money to balance to proceed: https://vsegpt.ru/User/Money', 'code': 400}})\n",
            "Evaluating:  24%|██▎       | 59/250 [01:31<01:49,  1.74it/s]Exception raised in Job[214]: BadRequestError(Error code: 400 - {'error': {'message': 'Potentially out of budget: 3291->700, expected price 0.09873, but you have only -3.577019 on account. Please, add some money to balance to proceed: https://vsegpt.ru/User/Money', 'code': 400}})\n",
            "Exception raised in Job[2]: BadRequestError(Error code: 400 - {'error': {'message': 'Potentially out of budget: 44775->700, expected price 0.9515, but you have only -3.577019 on account. Please, add some money to balance to proceed: https://vsegpt.ru/User/Money', 'code': 400}})\n",
            "Evaluating:  24%|██▍       | 61/250 [01:31<01:25,  2.20it/s]Exception raised in Job[144]: BadRequestError(Error code: 400 - {'error': {'message': 'Potentially out of budget: 23594->700, expected price 0.52788, but you have only -3.577019 on account. Please, add some money to balance to proceed: https://vsegpt.ru/User/Money', 'code': 400}})\n",
            "Evaluating:  25%|██▍       | 62/250 [01:32<01:51,  1.68it/s]Exception raised in Job[1]: BadRequestError(Error code: 400 - {'error': {'message': 'Potentially out of budget: 9396->700, expected price 0.24392, but you have only -3.577019 on account. Please, add some money to balance to proceed: https://vsegpt.ru/User/Money', 'code': 400}})\n",
            "Exception raised in Job[148]: BadRequestError(Error code: 400 - {'error': {'message': 'Potentially out of budget: 59497->700, expected price 1.24594, but you have only -3.577019 on account. Please, add some money to balance to proceed: https://vsegpt.ru/User/Money', 'code': 400}})\n",
            "Exception raised in Job[65]: BadRequestError(Error code: 400 - {'error': {'message': 'Potentially out of budget: 7797->700, expected price 0.21194, but you have only -3.577019 on account. Please, add some money to balance to proceed: https://vsegpt.ru/User/Money', 'code': 400}})\n",
            "Evaluating:  26%|██▌       | 65/250 [01:33<01:27,  2.13it/s]Exception raised in Job[4]: BadRequestError(Error code: 400 - {'error': {'message': 'Potentially out of budget: 9396->700, expected price 0.24392, but you have only -3.577019 on account. Please, add some money to balance to proceed: https://vsegpt.ru/User/Money', 'code': 400}})\n",
            "Exception raised in Job[140]: BadRequestError(Error code: 400 - {'error': {'message': 'Potentially out of budget: 20537->700, expected price 0.46674, but you have only -3.577019 on account. Please, add some money to balance to proceed: https://vsegpt.ru/User/Money', 'code': 400}})\n",
            "Evaluating:  27%|██▋       | 67/250 [01:34<01:31,  2.00it/s]Exception raised in Job[6]: BadRequestError(Error code: 400 - {'error': {'message': 'Potentially out of budget: 22416->700, expected price 0.50432, but you have only -3.577019 on account. Please, add some money to balance to proceed: https://vsegpt.ru/User/Money', 'code': 400}})\n",
            "Exception raised in Job[151]: BadRequestError(Error code: 400 - {'error': {'message': 'Potentially out of budget: 3250->700, expected price 0.121, but you have only -3.577019 on account. Please, add some money to balance to proceed: https://vsegpt.ru/User/Money', 'code': 400}})\n",
            "Evaluating:  28%|██▊       | 69/250 [01:35<01:31,  1.98it/s]Exception raised in Job[224]: BadRequestError(Error code: 400 - {'error': {'message': 'Potentially out of budget: 7518->700, expected price 0.20636, but you have only -3.577019 on account. Please, add some money to balance to proceed: https://vsegpt.ru/User/Money', 'code': 400}})\n",
            "Evaluating:  28%|██▊       | 70/250 [01:36<01:47,  1.68it/s]Exception raised in Job[79]: BadRequestError(Error code: 400 - {'error': {'message': 'Potentially out of budget: 19288->700, expected price 0.44176, but you have only -3.577019 on account. Please, add some money to balance to proceed: https://vsegpt.ru/User/Money', 'code': 400}})\n",
            "Exception raised in Job[80]: BadRequestError(Error code: 400 - {'error': {'message': 'Potentially out of budget: 15951->700, expected price 0.37502, but you have only -3.577019 on account. Please, add some money to balance to proceed: https://vsegpt.ru/User/Money', 'code': 400}})\n",
            "Evaluating:  29%|██▉       | 72/250 [01:36<01:12,  2.44it/s]Exception raised in Job[77]: BadRequestError(Error code: 400 - {'error': {'message': 'Potentially out of budget: 56166->700, expected price 1.17932, but you have only -3.577019 on account. Please, add some money to balance to proceed: https://vsegpt.ru/User/Money', 'code': 400}})\n",
            "Evaluating:  29%|██▉       | 73/250 [01:38<01:40,  1.76it/s]Exception raised in Job[223]: BadRequestError(Error code: 400 - {'error': {'message': 'Potentially out of budget: 40849->700, expected price 0.87298, but you have only -3.577019 on account. Please, add some money to balance to proceed: https://vsegpt.ru/User/Money', 'code': 400}})\n",
            "Exception raised in Job[3]: BadRequestError(Error code: 400 - {'error': {'message': 'Potentially out of budget: 44098->700, expected price 0.93796, but you have only -3.577019 on account. Please, add some money to balance to proceed: https://vsegpt.ru/User/Money', 'code': 400}})\n",
            "Evaluating:  30%|███       | 75/250 [01:38<01:07,  2.59it/s]Exception raised in Job[70]: BadRequestError(Error code: 400 - {'error': {'message': 'Potentially out of budget: 10329->700, expected price 0.26258, but you have only -3.577019 on account. Please, add some money to balance to proceed: https://vsegpt.ru/User/Money', 'code': 400}})\n",
            "Evaluating:  30%|███       | 76/250 [01:39<01:29,  1.94it/s]Exception raised in Job[81]: BadRequestError(Error code: 400 - {'error': {'message': 'Potentially out of budget: 12307->700, expected price 0.30214, but you have only -3.577019 on account. Please, add some money to balance to proceed: https://vsegpt.ru/User/Money', 'code': 400}})\n",
            "Exception raised in Job[8]: BadRequestError(Error code: 400 - {'error': {'message': 'Potentially out of budget: 63520->700, expected price 1.3264, but you have only -3.577019 on account. Please, add some money to balance to proceed: https://vsegpt.ru/User/Money', 'code': 400}})\n",
            "Exception raised in Job[145]: BadRequestError(Error code: 400 - {'error': {'message': 'Potentially out of budget: 17934->700, expected price 0.41468, but you have only -3.577019 on account. Please, add some money to balance to proceed: https://vsegpt.ru/User/Money', 'code': 400}})\n",
            "Evaluating:  32%|███▏      | 79/250 [01:40<01:15,  2.27it/s]Exception raised in Job[222]: BadRequestError(Error code: 400 - {'error': {'message': 'Potentially out of budget: 37946->700, expected price 0.81492, but you have only -3.577019 on account. Please, add some money to balance to proceed: https://vsegpt.ru/User/Money', 'code': 400}})\n",
            "Exception raised in Job[226]: BadRequestError(Error code: 400 - {'error': {'message': 'Potentially out of budget: 16525->700, expected price 0.3865, but you have only -3.577019 on account. Please, add some money to balance to proceed: https://vsegpt.ru/User/Money', 'code': 400}})\n",
            "Evaluating:  33%|███▎      | 82/250 [01:41<01:03,  2.63it/s]Exception raised in Job[149]: BadRequestError(Error code: 400 - {'error': {'message': 'Potentially out of budget: 26674->700, expected price 0.58948, but you have only -5.433599 on account. Please, add some money to balance to proceed: https://vsegpt.ru/User/Money', 'code': 400}})\n",
            "Exception raised in Job[10]: BadRequestError(Error code: 400 - {'error': {'message': 'Potentially out of budget: 10771->700, expected price 0.27142, but you have only -5.433599 on account. Please, add some money to balance to proceed: https://vsegpt.ru/User/Money', 'code': 400}})\n",
            "Evaluating:  34%|███▎      | 84/250 [01:41<00:49,  3.35it/s]Exception raised in Job[7]: BadRequestError(Error code: 400 - {'error': {'message': 'Potentially out of budget: 58035->700, expected price 1.2167, but you have only -5.433599 on account. Please, add some money to balance to proceed: https://vsegpt.ru/User/Money', 'code': 400}})\n",
            "Exception raised in Job[9]: BadRequestError(Error code: 400 - {'error': {'message': 'Potentially out of budget: 22416->700, expected price 0.50432, but you have only -5.433599 on account. Please, add some money to balance to proceed: https://vsegpt.ru/User/Money', 'code': 400}})\n",
            "Exception raised in Job[221]: BadRequestError(Error code: 400 - {'error': {'message': 'Potentially out of budget: 7518->700, expected price 0.20636, but you have only -5.433599 on account. Please, add some money to balance to proceed: https://vsegpt.ru/User/Money', 'code': 400}})\n",
            "Evaluating:  35%|███▍      | 87/250 [01:42<00:49,  3.29it/s]Exception raised in Job[11]: BadRequestError(Error code: 400 - {'error': {'message': 'Potentially out of budget: 10898->700, expected price 0.27396, but you have only -5.433599 on account. Please, add some money to balance to proceed: https://vsegpt.ru/User/Money', 'code': 400}})\n",
            "Evaluating:  35%|███▌      | 88/250 [01:42<00:44,  3.65it/s]Exception raised in Job[78]: BadRequestError(Error code: 400 - {'error': {'message': 'Potentially out of budget: 54235->700, expected price 1.1407, but you have only -5.433599 on account. Please, add some money to balance to proceed: https://vsegpt.ru/User/Money', 'code': 400}})\n",
            "Exception raised in Job[153]: BadRequestError(Error code: 400 - {'error': {'message': 'Potentially out of budget: 43258->700, expected price 0.92116, but you have only -5.433599 on account. Please, add some money to balance to proceed: https://vsegpt.ru/User/Money', 'code': 400}})\n",
            "Evaluating:  36%|███▌      | 90/250 [01:43<00:56,  2.84it/s]Exception raised in Job[156]: BadRequestError(Error code: 400 - {'error': {'message': 'Potentially out of budget: 17742->700, expected price 0.41084, but you have only -5.433599 on account. Please, add some money to balance to proceed: https://vsegpt.ru/User/Money', 'code': 400}})\n",
            "Exception raised in Job[12]: BadRequestError(Error code: 400 - {'error': {'message': 'Potentially out of budget: 48395->700, expected price 1.0239, but you have only -5.433599 on account. Please, add some money to balance to proceed: https://vsegpt.ru/User/Money', 'code': 400}})\n",
            "Evaluating:  37%|███▋      | 92/250 [01:44<01:04,  2.46it/s]Exception raised in Job[84]: BadRequestError(Error code: 400 - {'error': {'message': 'Potentially out of budget: 12307->700, expected price 0.30214, but you have only -5.433599 on account. Please, add some money to balance to proceed: https://vsegpt.ru/User/Money', 'code': 400}})\n",
            "Exception raised in Job[155]: BadRequestError(Error code: 400 - {'error': {'message': 'Potentially out of budget: 16470->700, expected price 0.3854, but you have only -5.433599 on account. Please, add some money to balance to proceed: https://vsegpt.ru/User/Money', 'code': 400}})\n",
            "Evaluating:  38%|███▊      | 94/250 [01:44<00:46,  3.33it/s]Exception raised in Job[227]: BadRequestError(Error code: 400 - {'error': {'message': 'Potentially out of budget: 54249->700, expected price 1.14098, but you have only -5.433599 on account. Please, add some money to balance to proceed: https://vsegpt.ru/User/Money', 'code': 400}})\n",
            "Evaluating:  38%|███▊      | 95/250 [01:45<01:03,  2.44it/s]Exception raised in Job[86]: BadRequestError(Error code: 400 - {'error': {'message': 'Potentially out of budget: 7478->700, expected price 0.20556, but you have only -5.433599 on account. Please, add some money to balance to proceed: https://vsegpt.ru/User/Money', 'code': 400}})\n",
            "Exception raised in Job[158]: BadRequestError(Error code: 400 - {'error': {'message': 'Potentially out of budget: 58163->700, expected price 1.21926, but you have only -5.433599 on account. Please, add some money to balance to proceed: https://vsegpt.ru/User/Money', 'code': 400}})\n",
            "Evaluating:  39%|███▉      | 97/250 [01:46<01:08,  2.24it/s]Exception raised in Job[82]: BadRequestError(Error code: 400 - {'error': {'message': 'Potentially out of budget: 51797->700, expected price 1.09194, but you have only -5.433599 on account. Please, add some money to balance to proceed: https://vsegpt.ru/User/Money', 'code': 400}})\n",
            "Exception raised in Job[87]: BadRequestError(Error code: 400 - {'error': {'message': 'Potentially out of budget: 41386->700, expected price 0.88372, but you have only -5.433599 on account. Please, add some money to balance to proceed: https://vsegpt.ru/User/Money', 'code': 400}})\n",
            "Evaluating:  40%|███▉      | 99/250 [01:47<01:10,  2.13it/s]Exception raised in Job[157]: BadRequestError(Error code: 400 - {'error': {'message': 'Potentially out of budget: 56266->700, expected price 1.18132, but you have only -5.433599 on account. Please, add some money to balance to proceed: https://vsegpt.ru/User/Money', 'code': 400}})\n",
            "Exception raised in Job[159]: BadRequestError(Error code: 400 - {'error': {'message': 'Potentially out of budget: 17742->700, expected price 0.41084, but you have only -5.433599 on account. Please, add some money to balance to proceed: https://vsegpt.ru/User/Money', 'code': 400}})\n",
            "Evaluating:  40%|████      | 101/250 [01:48<01:11,  2.08it/s]Exception raised in Job[147]: BadRequestError(Error code: 400 - {'error': {'message': 'Potentially out of budget: 60281->700, expected price 1.26162, but you have only -5.433599 on account. Please, add some money to balance to proceed: https://vsegpt.ru/User/Money', 'code': 400}})\n",
            "Exception raised in Job[232]: BadRequestError(Error code: 400 - {'error': {'message': 'Potentially out of budget: 41900->700, expected price 0.894, but you have only -5.433599 on account. Please, add some money to balance to proceed: https://vsegpt.ru/User/Money', 'code': 400}})\n",
            "Exception raised in Job[15]: BadRequestError(Error code: 400 - {'error': {'message': 'Potentially out of budget: 8211->700, expected price 0.22022, but you have only -5.433599 on account. Please, add some money to balance to proceed: https://vsegpt.ru/User/Money', 'code': 400}})\n",
            "Evaluating:  42%|████▏     | 104/250 [01:49<01:02,  2.34it/s]Exception raised in Job[88]: BadRequestError(Error code: 400 - {'error': {'message': 'Potentially out of budget: 42095->700, expected price 0.8979, but you have only -5.433599 on account. Please, add some money to balance to proceed: https://vsegpt.ru/User/Money', 'code': 400}})\n",
            "Exception raised in Job[231]: BadRequestError(Error code: 400 - {'error': {'message': 'Potentially out of budget: 6007->700, expected price 0.17614, but you have only -5.433599 on account. Please, add some money to balance to proceed: https://vsegpt.ru/User/Money', 'code': 400}})\n",
            "Exception raised in Job[233]: BadRequestError(Error code: 400 - {'error': {'message': 'Potentially out of budget: 44769->700, expected price 0.95138, but you have only -5.433599 on account. Please, add some money to balance to proceed: https://vsegpt.ru/User/Money', 'code': 400}})\n",
            "Evaluating:  43%|████▎     | 107/250 [01:50<00:57,  2.48it/s]Exception raised in Job[150]: BadRequestError(Error code: 400 - {'error': {'message': 'Potentially out of budget: 9695->700, expected price 0.2499, but you have only -5.433599 on account. Please, add some money to balance to proceed: https://vsegpt.ru/User/Money', 'code': 400}})\n",
            "Evaluating:  43%|████▎     | 108/250 [01:50<00:51,  2.74it/s]Exception raised in Job[161]: BadRequestError(Error code: 400 - {'error': {'message': 'Potentially out of budget: 18413->700, expected price 0.42426, but you have only -5.433599 on account. Please, add some money to balance to proceed: https://vsegpt.ru/User/Money', 'code': 400}})\n",
            "Evaluating:  44%|████▎     | 109/250 [01:52<01:08,  2.06it/s]Exception raised in Job[230]: BadRequestError(Error code: 400 - {'error': {'message': 'Potentially out of budget: 10134->700, expected price 0.25868, but you have only -5.433599 on account. Please, add some money to balance to proceed: https://vsegpt.ru/User/Money', 'code': 400}})\n",
            "Exception raised in Job[228]: BadRequestError(Error code: 400 - {'error': {'message': 'Potentially out of budget: 52143->700, expected price 1.09886, but you have only -5.433599 on account. Please, add some money to balance to proceed: https://vsegpt.ru/User/Money', 'code': 400}})\n",
            "Exception raised in Job[90]: BadRequestError(Error code: 400 - {'error': {'message': 'Potentially out of budget: 11731->700, expected price 0.29062, but you have only -5.433599 on account. Please, add some money to balance to proceed: https://vsegpt.ru/User/Money', 'code': 400}})\n",
            "Evaluating:  45%|████▍     | 112/250 [01:53<00:58,  2.36it/s]Exception raised in Job[17]: BadRequestError(Error code: 400 - {'error': {'message': 'Potentially out of budget: 41179->700, expected price 0.87958, but you have only -5.433599 on account. Please, add some money to balance to proceed: https://vsegpt.ru/User/Money', 'code': 400}})\n",
            "Exception raised in Job[235]: BadRequestError(Error code: 400 - {'error': {'message': 'Potentially out of budget: 20538->700, expected price 0.46676, but you have only -5.433599 on account. Please, add some money to balance to proceed: https://vsegpt.ru/User/Money', 'code': 400}})\n",
            "Evaluating:  46%|████▌     | 114/250 [01:54<01:02,  2.19it/s]Exception raised in Job[13]: BadRequestError(Error code: 400 - {'error': {'message': 'Potentially out of budget: 48625->700, expected price 1.0285, but you have only -5.433599 on account. Please, add some money to balance to proceed: https://vsegpt.ru/User/Money', 'code': 400}})\n",
            "Exception raised in Job[234]: BadRequestError(Error code: 400 - {'error': {'message': 'Potentially out of budget: 6007->700, expected price 0.17614, but you have only -5.433599 on account. Please, add some money to balance to proceed: https://vsegpt.ru/User/Money', 'code': 400}})\n",
            "Evaluating:  46%|████▋     | 116/250 [01:55<01:03,  2.11it/s]Exception raised in Job[18]: BadRequestError(Error code: 400 - {'error': {'message': 'Potentially out of budget: 43230->700, expected price 0.9206, but you have only -5.433599 on account. Please, add some money to balance to proceed: https://vsegpt.ru/User/Money', 'code': 400}})\n",
            "Exception raised in Job[91]: BadRequestError(Error code: 400 - {'error': {'message': 'Potentially out of budget: 22828->700, expected price 0.51256, but you have only -5.433599 on account. Please, add some money to balance to proceed: https://vsegpt.ru/User/Money', 'code': 400}})\n",
            "Evaluating:  47%|████▋     | 118/250 [01:55<00:46,  2.85it/s]Exception raised in Job[85]: BadRequestError(Error code: 400 - {'error': {'message': 'Potentially out of budget: 7181->700, expected price 0.19962, but you have only -5.433599 on account. Please, add some money to balance to proceed: https://vsegpt.ru/User/Money', 'code': 400}})\n",
            "Evaluating:  48%|████▊     | 119/250 [01:56<00:59,  2.19it/s]Exception raised in Job[236]: BadRequestError(Error code: 400 - {'error': {'message': 'Potentially out of budget: 18412->700, expected price 0.42424, but you have only -5.433599 on account. Please, add some money to balance to proceed: https://vsegpt.ru/User/Money', 'code': 400}})\n",
            "Exception raised in Job[92]: BadRequestError(Error code: 400 - {'error': {'message': 'Potentially out of budget: 57762->700, expected price 1.21124, but you have only -5.433599 on account. Please, add some money to balance to proceed: https://vsegpt.ru/User/Money', 'code': 400}})\n",
            "Exception raised in Job[237]: BadRequestError(Error code: 400 - {'error': {'message': 'Potentially out of budget: 53292->700, expected price 1.12184, but you have only -5.433599 on account. Please, add some money to balance to proceed: https://vsegpt.ru/User/Money', 'code': 400}})\n",
            "Evaluating:  49%|████▉     | 122/250 [01:57<00:54,  2.37it/s]Exception raised in Job[16]: BadRequestError(Error code: 400 - {'error': {'message': 'Potentially out of budget: 5429->700, expected price 0.16458, but you have only -5.433599 on account. Please, add some money to balance to proceed: https://vsegpt.ru/User/Money', 'code': 400}})\n",
            "Evaluating:  49%|████▉     | 123/250 [01:58<00:58,  2.15it/s]Exception raised in Job[154]: BadRequestError(Error code: 400 - {'error': {'message': 'Potentially out of budget: 3250->700, expected price 0.121, but you have only -5.433599 on account. Please, add some money to balance to proceed: https://vsegpt.ru/User/Money', 'code': 400}})\n",
            "Evaluating:  50%|████▉     | 124/250 [01:58<00:55,  2.27it/s]Exception raised in Job[14]: BadRequestError(Error code: 400 - {'error': {'message': 'Potentially out of budget: 10898->700, expected price 0.27396, but you have only -5.433599 on account. Please, add some money to balance to proceed: https://vsegpt.ru/User/Money', 'code': 400}})\n",
            "Evaluating:  50%|█████     | 125/250 [01:59<01:11,  1.75it/s]Exception raised in Job[162]: BadRequestError(Error code: 400 - {'error': {'message': 'Potentially out of budget: 54441->700, expected price 1.14482, but you have only -5.433599 on account. Please, add some money to balance to proceed: https://vsegpt.ru/User/Money', 'code': 400}})\n",
            "Evaluating:  50%|█████     | 126/250 [02:00<01:25,  1.45it/s]Exception raised in Job[164]: BadRequestError(Error code: 400 - {'error': {'message': 'Potentially out of budget: 18413->700, expected price 0.42426, but you have only -5.433599 on account. Please, add some money to balance to proceed: https://vsegpt.ru/User/Money', 'code': 400}})\n",
            "Exception raised in Job[93]: BadRequestError(Error code: 400 - {'error': {'message': 'Potentially out of budget: 52927->700, expected price 1.11454, but you have only -5.433599 on account. Please, add some money to balance to proceed: https://vsegpt.ru/User/Money', 'code': 400}})\n",
            "Evaluating:  51%|█████     | 128/250 [02:01<01:14,  1.64it/s]Exception raised in Job[21]: BadRequestError(Error code: 400 - {'error': {'message': 'Potentially out of budget: 4788->700, expected price 0.15176, but you have only -5.433599 on account. Please, add some money to balance to proceed: https://vsegpt.ru/User/Money', 'code': 400}})\n",
            "Evaluating:  52%|█████▏    | 129/250 [02:01<01:00,  2.01it/s]Exception raised in Job[165]: BadRequestError(Error code: 400 - {'error': {'message': 'Potentially out of budget: 13879->700, expected price 0.33358, but you have only -5.433599 on account. Please, add some money to balance to proceed: https://vsegpt.ru/User/Money', 'code': 400}})\n",
            "Evaluating:  52%|█████▏    | 130/250 [02:02<01:03,  1.89it/s]Exception raised in Job[166]: BadRequestError(Error code: 400 - {'error': {'message': 'Potentially out of budget: 9080->700, expected price 0.2376, but you have only -5.433599 on account. Please, add some money to balance to proceed: https://vsegpt.ru/User/Money', 'code': 400}})\n",
            "Evaluating:  52%|█████▏    | 131/250 [02:02<00:56,  2.12it/s]Exception raised in Job[5]: BadRequestError(Error code: 400 - {'error': {'message': 'Potentially out of budget: 22211->700, expected price 0.50022, but you have only -5.433599 on account. Please, add some money to balance to proceed: https://vsegpt.ru/User/Money', 'code': 400}})\n",
            "Evaluating:  53%|█████▎    | 132/250 [02:02<00:44,  2.67it/s]Exception raised in Job[163]: BadRequestError(Error code: 400 - {'error': {'message': 'Potentially out of budget: 53093->700, expected price 1.11786, but you have only -5.433599 on account. Please, add some money to balance to proceed: https://vsegpt.ru/User/Money', 'code': 400}})\n",
            "Evaluating:  53%|█████▎    | 133/250 [02:03<01:06,  1.76it/s]Exception raised in Job[167]: BadRequestError(Error code: 400 - {'error': {'message': 'Potentially out of budget: 50381->700, expected price 1.06362, but you have only -5.433599 on account. Please, add some money to balance to proceed: https://vsegpt.ru/User/Money', 'code': 400}})\n",
            "Exception raised in Job[238]: BadRequestError(Error code: 400 - {'error': {'message': 'Potentially out of budget: 59805->700, expected price 1.2521, but you have only -5.433599 on account. Please, add some money to balance to proceed: https://vsegpt.ru/User/Money', 'code': 400}})\n",
            "Exception raised in Job[83]: BadRequestError(Error code: 400 - {'error': {'message': 'Potentially out of budget: 56049->700, expected price 1.17698, but you have only -5.433599 on account. Please, add some money to balance to proceed: https://vsegpt.ru/User/Money', 'code': 400}})\n",
            "Evaluating:  54%|█████▍    | 136/250 [02:04<00:50,  2.24it/s]Exception raised in Job[94]: BadRequestError(Error code: 400 - {'error': {'message': 'Potentially out of budget: 22828->700, expected price 0.51256, but you have only -5.433599 on account. Please, add some money to balance to proceed: https://vsegpt.ru/User/Money', 'code': 400}})\n",
            "Exception raised in Job[96]: BadRequestError(Error code: 400 - {'error': {'message': 'Potentially out of budget: 16937->700, expected price 0.39474, but you have only -5.433599 on account. Please, add some money to balance to proceed: https://vsegpt.ru/User/Money', 'code': 400}})\n",
            "Exception raised in Job[241]: BadRequestError(Error code: 400 - {'error': {'message': 'Potentially out of budget: 22828->700, expected price 0.51256, but you have only -5.433599 on account. Please, add some money to balance to proceed: https://vsegpt.ru/User/Money', 'code': 400}})\n",
            "Evaluating:  56%|█████▌    | 139/250 [02:04<00:30,  3.69it/s]Exception raised in Job[97]: BadRequestError(Error code: 400 - {'error': {'message': 'Potentially out of budget: 56075->700, expected price 1.1775, but you have only -5.433599 on account. Please, add some money to balance to proceed: https://vsegpt.ru/User/Money', 'code': 400}})\n",
            "Evaluating:  56%|█████▌    | 140/250 [02:05<00:43,  2.53it/s]Exception raised in Job[24]: BadRequestError(Error code: 400 - {'error': {'message': 'Potentially out of budget: 4788->700, expected price 0.15176, but you have only -5.433599 on account. Please, add some money to balance to proceed: https://vsegpt.ru/User/Money', 'code': 400}})\n",
            "Exception raised in Job[242]: BadRequestError(Error code: 400 - {'error': {'message': 'Potentially out of budget: 58326->700, expected price 1.22252, but you have only -5.433599 on account. Please, add some money to balance to proceed: https://vsegpt.ru/User/Money', 'code': 400}})\n",
            "Evaluating:  57%|█████▋    | 142/250 [02:06<00:49,  2.20it/s]Exception raised in Job[23]: BadRequestError(Error code: 400 - {'error': {'message': 'Potentially out of budget: 49450->700, expected price 1.045, but you have only -5.433599 on account. Please, add some money to balance to proceed: https://vsegpt.ru/User/Money', 'code': 400}})\n",
            "Exception raised in Job[19]: BadRequestError(Error code: 400 - {'error': {'message': 'Potentially out of budget: 5429->700, expected price 0.16458, but you have only -5.433599 on account. Please, add some money to balance to proceed: https://vsegpt.ru/User/Money', 'code': 400}})\n",
            "Exception raised in Job[239]: BadRequestError(Error code: 400 - {'error': {'message': 'Potentially out of budget: 18412->700, expected price 0.42424, but you have only -5.433599 on account. Please, add some money to balance to proceed: https://vsegpt.ru/User/Money', 'code': 400}})\n",
            "Evaluating:  58%|█████▊    | 145/250 [02:08<00:42,  2.45it/s]Exception raised in Job[25]: BadRequestError(Error code: 400 - {'error': {'message': 'Potentially out of budget: 11885->700, expected price 0.2937, but you have only -5.433599 on account. Please, add some money to balance to proceed: https://vsegpt.ru/User/Money', 'code': 400}})\n",
            "Exception raised in Job[95]: BadRequestError(Error code: 400 - {'error': {'message': 'Potentially out of budget: 13874->700, expected price 0.33348, but you have only -5.433599 on account. Please, add some money to balance to proceed: https://vsegpt.ru/User/Money', 'code': 400}})\n",
            "Exception raised in Job[243]: BadRequestError(Error code: 400 - {'error': {'message': 'Potentially out of budget: 57673->700, expected price 1.20946, but you have only -5.433599 on account. Please, add some money to balance to proceed: https://vsegpt.ru/User/Money', 'code': 400}})\n",
            "Evaluating:  59%|█████▉    | 148/250 [02:09<00:38,  2.63it/s]Exception raised in Job[240]: BadRequestError(Error code: 400 - {'error': {'message': 'Potentially out of budget: 16091->700, expected price 0.37782, but you have only -5.433599 on account. Please, add some money to balance to proceed: https://vsegpt.ru/User/Money', 'code': 400}})\n",
            "Exception raised in Job[98]: BadRequestError(Error code: 400 - {'error': {'message': 'Potentially out of budget: 55746->700, expected price 1.17092, but you have only -5.433599 on account. Please, add some money to balance to proceed: https://vsegpt.ru/User/Money', 'code': 400}})\n",
            "Evaluating:  60%|██████    | 150/250 [02:10<00:42,  2.36it/s]Exception raised in Job[160]: BadRequestError(Error code: 400 - {'error': {'message': 'Potentially out of budget: 13695->700, expected price 0.3299, but you have only -5.433599 on account. Please, add some money to balance to proceed: https://vsegpt.ru/User/Money', 'code': 400}})\n",
            "Exception raised in Job[169]: BadRequestError(Error code: 400 - {'error': {'message': 'Potentially out of budget: 9080->700, expected price 0.2376, but you have only -5.433599 on account. Please, add some money to balance to proceed: https://vsegpt.ru/User/Money', 'code': 400}})\n",
            "Evaluating:  61%|██████    | 152/250 [02:10<00:31,  3.06it/s]Exception raised in Job[27]: BadRequestError(Error code: 400 - {'error': {'message': 'Potentially out of budget: 50731->700, expected price 1.07062, but you have only -5.433599 on account. Please, add some money to balance to proceed: https://vsegpt.ru/User/Money', 'code': 400}})\n",
            "Evaluating:  61%|██████    | 153/250 [02:11<00:40,  2.41it/s]Exception raised in Job[89]: BadRequestError(Error code: 400 - {'error': {'message': 'Potentially out of budget: 7478->700, expected price 0.20556, but you have only -5.433599 on account. Please, add some money to balance to proceed: https://vsegpt.ru/User/Money', 'code': 400}})\n",
            "Exception raised in Job[245]: BadRequestError(Error code: 400 - {'error': {'message': 'Potentially out of budget: 11096->700, expected price 0.27792, but you have only -5.433599 on account. Please, add some money to balance to proceed: https://vsegpt.ru/User/Money', 'code': 400}})\n",
            "Evaluating:  62%|██████▏   | 155/250 [02:12<00:43,  2.16it/s]Exception raised in Job[168]: BadRequestError(Error code: 400 - {'error': {'message': 'Potentially out of budget: 54759->700, expected price 1.15118, but you have only -5.433599 on account. Please, add some money to balance to proceed: https://vsegpt.ru/User/Money', 'code': 400}})\n",
            "Exception raised in Job[26]: BadRequestError(Error code: 400 - {'error': {'message': 'Potentially out of budget: 7993->700, expected price 0.21586, but you have only -5.433599 on account. Please, add some money to balance to proceed: https://vsegpt.ru/User/Money', 'code': 400}})\n",
            "Exception raised in Job[28]: BadRequestError(Error code: 400 - {'error': {'message': 'Potentially out of budget: 53343->700, expected price 1.12286, but you have only -5.433599 on account. Please, add some money to balance to proceed: https://vsegpt.ru/User/Money', 'code': 400}})\n",
            "Evaluating:  63%|██████▎   | 158/250 [02:13<00:37,  2.47it/s]Exception raised in Job[244]: BadRequestError(Error code: 400 - {'error': {'message': 'Potentially out of budget: 22828->700, expected price 0.51256, but you have only -5.433599 on account. Please, add some money to balance to proceed: https://vsegpt.ru/User/Money', 'code': 400}})\n",
            "Exception raised in Job[102]: BadRequestError(Error code: 400 - {'error': {'message': 'Potentially out of budget: 55924->700, expected price 1.17448, but you have only -5.433599 on account. Please, add some money to balance to proceed: https://vsegpt.ru/User/Money', 'code': 400}})\n",
            "Evaluating:  64%|██████▍   | 160/250 [02:14<00:39,  2.25it/s]Exception raised in Job[246]: BadRequestError(Error code: 400 - {'error': {'message': 'Potentially out of budget: 12187->700, expected price 0.29974, but you have only -5.433599 on account. Please, add some money to balance to proceed: https://vsegpt.ru/User/Money', 'code': 400}})\n",
            "Exception raised in Job[229]: BadRequestError(Error code: 400 - {'error': {'message': 'Potentially out of budget: 16525->700, expected price 0.3865, but you have only -5.433599 on account. Please, add some money to balance to proceed: https://vsegpt.ru/User/Money', 'code': 400}})\n",
            "Exception raised in Job[247]: BadRequestError(Error code: 400 - {'error': {'message': 'Potentially out of budget: 50436->700, expected price 1.06472, but you have only -5.433599 on account. Please, add some money to balance to proceed: https://vsegpt.ru/User/Money', 'code': 400}})\n",
            "Evaluating:  65%|██████▌   | 163/250 [02:15<00:35,  2.47it/s]Exception raised in Job[100]: BadRequestError(Error code: 400 - {'error': {'message': 'Potentially out of budget: 11897->700, expected price 0.29394, but you have only -5.433599 on account. Please, add some money to balance to proceed: https://vsegpt.ru/User/Money', 'code': 400}})\n",
            "Exception raised in Job[170]: BadRequestError(Error code: 400 - {'error': {'message': 'Potentially out of budget: 10096->700, expected price 0.25792, but you have only -5.433599 on account. Please, add some money to balance to proceed: https://vsegpt.ru/User/Money', 'code': 400}})\n",
            "Evaluating:  66%|██████▌   | 165/250 [02:16<00:36,  2.31it/s]Exception raised in Job[172]: BadRequestError(Error code: 400 - {'error': {'message': 'Potentially out of budget: 41109->700, expected price 0.87818, but you have only -5.433599 on account. Please, add some money to balance to proceed: https://vsegpt.ru/User/Money', 'code': 400}})\n",
            "Evaluating:  66%|██████▋   | 166/250 [02:16<00:32,  2.62it/s]Exception raised in Job[103]: BadRequestError(Error code: 400 - {'error': {'message': 'Potentially out of budget: 53649->700, expected price 1.12898, but you have only -5.433599 on account. Please, add some money to balance to proceed: https://vsegpt.ru/User/Money', 'code': 400}})\n",
            "Evaluating:  67%|██████▋   | 167/250 [02:17<00:41,  2.02it/s]Exception raised in Job[248]: BadRequestError(Error code: 400 - {'error': {'message': 'Potentially out of budget: 50994->700, expected price 1.07588, but you have only -5.433599 on account. Please, add some money to balance to proceed: https://vsegpt.ru/User/Money', 'code': 400}})\n",
            "Exception raised in Job[101]: BadRequestError(Error code: 400 - {'error': {'message': 'Potentially out of budget: 17319->700, expected price 0.40238, but you have only -5.433599 on account. Please, add some money to balance to proceed: https://vsegpt.ru/User/Money', 'code': 400}})\n",
            "Exception raised in Job[104]: BadRequestError(Error code: 400 - {'error': {'message': 'Potentially out of budget: 17319->700, expected price 0.40238, but you have only -5.433599 on account. Please, add some money to balance to proceed: https://vsegpt.ru/User/Money', 'code': 400}})\n",
            "Evaluating:  68%|██████▊   | 170/250 [02:18<00:34,  2.31it/s]Exception raised in Job[175]: BadRequestError(Error code: 400 - {'error': {'message': 'Potentially out of budget: 16878->700, expected price 0.39356, but you have only -5.433599 on account. Please, add some money to balance to proceed: https://vsegpt.ru/User/Money', 'code': 400}})\n",
            "Evaluating:  68%|██████▊   | 171/250 [02:18<00:31,  2.53it/s]Exception raised in Job[105]: BadRequestError(Error code: 400 - {'error': {'message': 'Potentially out of budget: 18734->700, expected price 0.43068, but you have only -5.433599 on account. Please, add some money to balance to proceed: https://vsegpt.ru/User/Money', 'code': 400}})\n",
            "Evaluating:  69%|██████▉   | 172/250 [02:19<00:39,  1.99it/s]Exception raised in Job[71]: BadRequestError(Error code: 400 - {'error': {'message': 'Potentially out of budget: 48884->700, expected price 1.03368, but you have only -5.433599 on account. Please, add some money to balance to proceed: https://vsegpt.ru/User/Money', 'code': 400}})\n",
            "Evaluating:  69%|██████▉   | 173/250 [02:20<00:40,  1.89it/s]Exception raised in Job[22]: BadRequestError(Error code: 400 - {'error': {'message': 'Potentially out of budget: 46856->700, expected price 0.99312, but you have only -5.433599 on account. Please, add some money to balance to proceed: https://vsegpt.ru/User/Money', 'code': 400}})\n",
            "Evaluating:  70%|██████▉   | 174/250 [02:20<00:39,  1.91it/s]Exception raised in Job[106]: BadRequestError(Error code: 400 - {'error': {'message': 'Potentially out of budget: 13659->700, expected price 0.32918, but you have only -5.433599 on account. Please, add some money to balance to proceed: https://vsegpt.ru/User/Money', 'code': 400}})\n",
            "Evaluating:  70%|███████   | 175/250 [02:21<00:48,  1.53it/s]Exception raised in Job[33]: BadRequestError(Error code: 400 - {'error': {'message': 'Potentially out of budget: 50604->700, expected price 1.06808, but you have only -5.433599 on account. Please, add some money to balance to proceed: https://vsegpt.ru/User/Money', 'code': 400}})\n",
            "Exception raised in Job[177]: BadRequestError(Error code: 400 - {'error': {'message': 'Potentially out of budget: 54711->700, expected price 1.15022, but you have only -5.433599 on account. Please, add some money to balance to proceed: https://vsegpt.ru/User/Money', 'code': 400}})\n",
            "Evaluating:  71%|███████   | 177/250 [02:22<00:43,  1.69it/s]Exception raised in Job[171]: BadRequestError(Error code: 400 - {'error': {'message': 'Potentially out of budget: 5429->700, expected price 0.16458, but you have only -5.433599 on account. Please, add some money to balance to proceed: https://vsegpt.ru/User/Money', 'code': 400}})\n",
            "Evaluating:  71%|███████   | 178/250 [02:22<00:34,  2.09it/s]Exception raised in Job[32]: BadRequestError(Error code: 400 - {'error': {'message': 'Potentially out of budget: 47800->700, expected price 1.012, but you have only -5.433599 on account. Please, add some money to balance to proceed: https://vsegpt.ru/User/Money', 'code': 400}})\n",
            "Exception raised in Job[99]: BadRequestError(Error code: 400 - {'error': {'message': 'Potentially out of budget: 16937->700, expected price 0.39474, but you have only -5.433599 on account. Please, add some money to balance to proceed: https://vsegpt.ru/User/Money', 'code': 400}})\n",
            "Evaluating:  72%|███████▏  | 180/250 [02:23<00:32,  2.12it/s]Exception raised in Job[176]: BadRequestError(Error code: 400 - {'error': {'message': 'Potentially out of budget: 14833->700, expected price 0.35266, but you have only -5.433599 on account. Please, add some money to balance to proceed: https://vsegpt.ru/User/Money', 'code': 400}})\n",
            "Exception raised in Job[35]: BadRequestError(Error code: 400 - {'error': {'message': 'Potentially out of budget: 11697->700, expected price 0.28994, but you have only -5.433599 on account. Please, add some money to balance to proceed: https://vsegpt.ru/User/Money', 'code': 400}})\n",
            "Evaluating:  73%|███████▎  | 182/250 [02:25<00:34,  1.96it/s]Exception raised in Job[173]: BadRequestError(Error code: 400 - {'error': {'message': 'Potentially out of budget: 43359->700, expected price 0.92318, but you have only -5.433599 on account. Please, add some money to balance to proceed: https://vsegpt.ru/User/Money', 'code': 400}})\n",
            "Exception raised in Job[179]: BadRequestError(Error code: 400 - {'error': {'message': 'Potentially out of budget: 14833->700, expected price 0.35266, but you have only -5.433599 on account. Please, add some money to balance to proceed: https://vsegpt.ru/User/Money', 'code': 400}})\n",
            "Evaluating:  74%|███████▎  | 184/250 [02:26<00:33,  1.96it/s]Exception raised in Job[34]: BadRequestError(Error code: 400 - {'error': {'message': 'Potentially out of budget: 6484->700, expected price 0.18568, but you have only -5.433599 on account. Please, add some money to balance to proceed: https://vsegpt.ru/User/Money', 'code': 400}})\n",
            "Exception raised in Job[249]: BadRequestError(Error code: 400 - {'error': {'message': 'Potentially out of budget: 12187->700, expected price 0.29974, but you have only -5.433599 on account. Please, add some money to balance to proceed: https://vsegpt.ru/User/Money', 'code': 400}})\n",
            "Evaluating:  74%|███████▍  | 186/250 [02:26<00:23,  2.74it/s]Exception raised in Job[181]: BadRequestError(Error code: 400 - {'error': {'message': 'Potentially out of budget: 16067->700, expected price 0.37734, but you have only -5.433599 on account. Please, add some money to balance to proceed: https://vsegpt.ru/User/Money', 'code': 400}})\n",
            "Evaluating:  75%|███████▍  | 187/250 [02:27<00:28,  2.18it/s]Exception raised in Job[180]: BadRequestError(Error code: 400 - {'error': {'message': 'Potentially out of budget: 9562->700, expected price 0.24724, but you have only -5.433599 on account. Please, add some money to balance to proceed: https://vsegpt.ru/User/Money', 'code': 400}})\n",
            "Evaluating:  75%|███████▌  | 188/250 [02:27<00:31,  1.99it/s]Exception raised in Job[37]: BadRequestError(Error code: 400 - {'error': {'message': 'Potentially out of budget: 52926->700, expected price 1.11452, but you have only -5.433599 on account. Please, add some money to balance to proceed: https://vsegpt.ru/User/Money', 'code': 400}})\n",
            "Evaluating:  76%|███████▌  | 189/250 [02:28<00:29,  2.05it/s]Exception raised in Job[198]: BadRequestError(Error code: 400 - {'error': {'message': 'Potentially out of budget: 53874->700, expected price 1.13348, but you have only -5.433599 on account. Please, add some money to balance to proceed: https://vsegpt.ru/User/Money', 'code': 400}})\n",
            "Evaluating:  76%|███████▌  | 190/250 [02:29<00:35,  1.67it/s]Exception raised in Job[31]: BadRequestError(Error code: 400 - {'error': {'message': 'Potentially out of budget: 6484->700, expected price 0.18568, but you have only -5.433599 on account. Please, add some money to balance to proceed: https://vsegpt.ru/User/Money', 'code': 400}})\n",
            "Exception raised in Job[183]: BadRequestError(Error code: 400 - {'error': {'message': 'Potentially out of budget: 51118->700, expected price 1.07836, but you have only -5.433599 on account. Please, add some money to balance to proceed: https://vsegpt.ru/User/Money', 'code': 400}})\n",
            "Evaluating:  77%|███████▋  | 192/250 [02:30<00:33,  1.74it/s]Exception raised in Job[111]: BadRequestError(Error code: 400 - {'error': {'message': 'Potentially out of budget: 5935->700, expected price 0.1747, but you have only -5.433599 on account. Please, add some money to balance to proceed: https://vsegpt.ru/User/Money', 'code': 400}})\n",
            "Evaluating:  77%|███████▋  | 193/250 [02:31<00:39,  1.46it/s]Exception raised in Job[225]: BadRequestError(Error code: 400 - {'error': {'message': 'Potentially out of budget: 11381->700, expected price 0.28362, but you have only -5.433599 on account. Please, add some money to balance to proceed: https://vsegpt.ru/User/Money', 'code': 400}})\n",
            "Evaluating:  78%|███████▊  | 194/250 [02:31<00:32,  1.71it/s]Exception raised in Job[39]: BadRequestError(Error code: 400 - {'error': {'message': 'Potentially out of budget: 12560->700, expected price 0.3072, but you have only -5.433599 on account. Please, add some money to balance to proceed: https://vsegpt.ru/User/Money', 'code': 400}})\n",
            "Evaluating:  78%|███████▊  | 195/250 [02:32<00:34,  1.61it/s]Exception raised in Job[178]: BadRequestError(Error code: 400 - {'error': {'message': 'Potentially out of budget: 58750->700, expected price 1.231, but you have only -5.433599 on account. Please, add some money to balance to proceed: https://vsegpt.ru/User/Money', 'code': 400}})\n",
            "Evaluating:  78%|███████▊  | 196/250 [02:33<00:39,  1.36it/s]Exception raised in Job[109]: BadRequestError(Error code: 400 - {'error': {'message': 'Potentially out of budget: 13659->700, expected price 0.32918, but you have only -5.433599 on account. Please, add some money to balance to proceed: https://vsegpt.ru/User/Money', 'code': 400}})\n",
            "Exception raised in Job[112]: BadRequestError(Error code: 400 - {'error': {'message': 'Potentially out of budget: 48365->700, expected price 1.0233, but you have only -5.433599 on account. Please, add some money to balance to proceed: https://vsegpt.ru/User/Money', 'code': 400}})\n",
            "Evaluating:  79%|███████▉  | 198/250 [02:34<00:33,  1.57it/s]Exception raised in Job[40]: BadRequestError(Error code: 400 - {'error': {'message': 'Potentially out of budget: 14156->700, expected price 0.33912, but you have only -5.433599 on account. Please, add some money to balance to proceed: https://vsegpt.ru/User/Money', 'code': 400}})\n",
            "Exception raised in Job[38]: BadRequestError(Error code: 400 - {'error': {'message': 'Potentially out of budget: 52920->700, expected price 1.1144, but you have only -5.433599 on account. Please, add some money to balance to proceed: https://vsegpt.ru/User/Money', 'code': 400}})\n",
            "Evaluating:  80%|████████  | 200/250 [02:35<00:29,  1.68it/s]Exception raised in Job[114]: BadRequestError(Error code: 400 - {'error': {'message': 'Potentially out of budget: 5935->700, expected price 0.1747, but you have only -5.433599 on account. Please, add some money to balance to proceed: https://vsegpt.ru/User/Money', 'code': 400}})\n",
            "Exception raised in Job[186]: BadRequestError(Error code: 400 - {'error': {'message': 'Potentially out of budget: 19741->700, expected price 0.45082, but you have only -5.433599 on account. Please, add some money to balance to proceed: https://vsegpt.ru/User/Money', 'code': 400}})\n",
            "Evaluating:  81%|████████  | 202/250 [02:36<00:27,  1.77it/s]Exception raised in Job[110]: BadRequestError(Error code: 400 - {'error': {'message': 'Potentially out of budget: 11409->700, expected price 0.28418, but you have only -5.433599 on account. Please, add some money to balance to proceed: https://vsegpt.ru/User/Money', 'code': 400}})\n",
            "Evaluating:  81%|████████  | 203/250 [02:37<00:31,  1.50it/s]Exception raised in Job[30]: BadRequestError(Error code: 400 - {'error': {'message': 'Potentially out of budget: 10933->700, expected price 0.27466, but you have only -5.433599 on account. Please, add some money to balance to proceed: https://vsegpt.ru/User/Money', 'code': 400}})\n",
            "Evaluating:  82%|████████▏ | 204/250 [02:38<00:32,  1.43it/s]Exception raised in Job[182]: BadRequestError(Error code: 400 - {'error': {'message': 'Potentially out of budget: 54933->700, expected price 1.15466, but you have only -5.433599 on account. Please, add some money to balance to proceed: https://vsegpt.ru/User/Money', 'code': 400}})\n",
            "Evaluating:  82%|████████▏ | 205/250 [02:38<00:26,  1.69it/s]Exception raised in Job[36]: BadRequestError(Error code: 400 - {'error': {'message': 'Potentially out of budget: 12560->700, expected price 0.3072, but you have only -5.433599 on account. Please, add some money to balance to proceed: https://vsegpt.ru/User/Money', 'code': 400}})\n",
            "Evaluating:  82%|████████▏ | 206/250 [02:39<00:31,  1.40it/s]Exception raised in Job[43]: BadRequestError(Error code: 400 - {'error': {'message': 'Potentially out of budget: 51933->700, expected price 1.09466, but you have only -5.433599 on account. Please, add some money to balance to proceed: https://vsegpt.ru/User/Money', 'code': 400}})\n",
            "Exception raised in Job[188]: BadRequestError(Error code: 400 - {'error': {'message': 'Potentially out of budget: 53885->700, expected price 1.1337, but you have only -5.433599 on account. Please, add some money to balance to proceed: https://vsegpt.ru/User/Money', 'code': 400}})\n",
            "Evaluating:  83%|████████▎ | 208/250 [02:40<00:25,  1.62it/s]Exception raised in Job[113]: BadRequestError(Error code: 400 - {'error': {'message': 'Potentially out of budget: 51788->700, expected price 1.09176, but you have only -5.433599 on account. Please, add some money to balance to proceed: https://vsegpt.ru/User/Money', 'code': 400}})\n",
            "Evaluating:  84%|████████▎ | 209/250 [02:41<00:26,  1.54it/s]Exception raised in Job[185]: BadRequestError(Error code: 400 - {'error': {'message': 'Potentially out of budget: 13223->700, expected price 0.32046, but you have only -5.433599 on account. Please, add some money to balance to proceed: https://vsegpt.ru/User/Money', 'code': 400}})\n",
            "Evaluating:  84%|████████▍ | 210/250 [02:41<00:26,  1.51it/s]Exception raised in Job[115]: BadRequestError(Error code: 400 - {'error': {'message': 'Potentially out of budget: 9439->700, expected price 0.24478, but you have only -5.433599 on account. Please, add some money to balance to proceed: https://vsegpt.ru/User/Money', 'code': 400}})\n",
            "Evaluating:  84%|████████▍ | 211/250 [02:43<00:38,  1.02it/s]Exception raised in Job[118]: BadRequestError(Error code: 400 - {'error': {'message': 'Potentially out of budget: 41732->700, expected price 0.89064, but you have only -5.433599 on account. Please, add some money to balance to proceed: https://vsegpt.ru/User/Money', 'code': 400}})\n",
            "Exception raised in Job[107]: BadRequestError(Error code: 400 - {'error': {'message': 'Potentially out of budget: 45460->700, expected price 0.9652, but you have only -5.433599 on account. Please, add some money to balance to proceed: https://vsegpt.ru/User/Money', 'code': 400}})\n",
            "Exception raised in Job[190]: BadRequestError(Error code: 400 - {'error': {'message': 'Potentially out of budget: 9248->700, expected price 0.24096, but you have only -5.433599 on account. Please, add some money to balance to proceed: https://vsegpt.ru/User/Money', 'code': 400}})\n",
            "Evaluating:  86%|████████▌ | 214/250 [02:44<00:17,  2.04it/s]Exception raised in Job[46]: BadRequestError(Error code: 400 - {'error': {'message': 'Potentially out of budget: 18860->700, expected price 0.4332, but you have only -5.433599 on account. Please, add some money to balance to proceed: https://vsegpt.ru/User/Money', 'code': 400}})\n",
            "Evaluating:  86%|████████▌ | 215/250 [02:44<00:14,  2.40it/s]Exception raised in Job[191]: BadRequestError(Error code: 400 - {'error': {'message': 'Potentially out of budget: 12383->700, expected price 0.30366, but you have only -5.433599 on account. Please, add some money to balance to proceed: https://vsegpt.ru/User/Money', 'code': 400}})\n",
            "Evaluating:  86%|████████▋ | 216/250 [02:45<00:19,  1.77it/s]Exception raised in Job[116]: BadRequestError(Error code: 400 - {'error': {'message': 'Potentially out of budget: 6514->700, expected price 0.18628, but you have only -5.433599 on account. Please, add some money to balance to proceed: https://vsegpt.ru/User/Money', 'code': 400}})\n",
            "Evaluating:  87%|████████▋ | 217/250 [02:45<00:17,  1.85it/s]Exception raised in Job[119]: BadRequestError(Error code: 400 - {'error': {'message': 'Potentially out of budget: 6514->700, expected price 0.18628, but you have only -5.433599 on account. Please, add some money to balance to proceed: https://vsegpt.ru/User/Money', 'code': 400}})\n",
            "Evaluating:  87%|████████▋ | 218/250 [02:46<00:19,  1.66it/s]Exception raised in Job[192]: BadRequestError(Error code: 400 - {'error': {'message': 'Potentially out of budget: 38085->700, expected price 0.8177, but you have only -5.433599 on account. Please, add some money to balance to proceed: https://vsegpt.ru/User/Money', 'code': 400}})\n",
            "Evaluating:  88%|████████▊ | 219/250 [02:47<00:22,  1.41it/s]Exception raised in Job[41]: BadRequestError(Error code: 400 - {'error': {'message': 'Potentially out of budget: 22105->700, expected price 0.4981, but you have only -5.433599 on account. Please, add some money to balance to proceed: https://vsegpt.ru/User/Money', 'code': 400}})\n",
            "Evaluating:  88%|████████▊ | 220/250 [02:47<00:19,  1.53it/s]Exception raised in Job[121]: BadRequestError(Error code: 400 - {'error': {'message': 'Potentially out of budget: 22257->700, expected price 0.50114, but you have only -5.433599 on account. Please, add some money to balance to proceed: https://vsegpt.ru/User/Money', 'code': 400}})\n",
            "Evaluating:  88%|████████▊ | 221/250 [02:48<00:18,  1.58it/s]Exception raised in Job[189]: BadRequestError(Error code: 400 - {'error': {'message': 'Potentially out of budget: 19741->700, expected price 0.45082, but you have only -5.433599 on account. Please, add some money to balance to proceed: https://vsegpt.ru/User/Money', 'code': 400}})\n",
            "Evaluating:  89%|████████▉ | 222/250 [02:49<00:20,  1.34it/s]Exception raised in Job[108]: BadRequestError(Error code: 400 - {'error': {'message': 'Potentially out of budget: 50949->700, expected price 1.07498, but you have only -5.433599 on account. Please, add some money to balance to proceed: https://vsegpt.ru/User/Money', 'code': 400}})\n",
            "Exception raised in Job[45]: BadRequestError(Error code: 400 - {'error': {'message': 'Potentially out of budget: 20846->700, expected price 0.47292, but you have only -5.433599 on account. Please, add some money to balance to proceed: https://vsegpt.ru/User/Money', 'code': 400}})\n",
            "Evaluating:  90%|████████▉ | 224/250 [02:49<00:11,  2.29it/s]Exception raised in Job[187]: BadRequestError(Error code: 400 - {'error': {'message': 'Potentially out of budget: 55722->700, expected price 1.17044, but you have only -5.433599 on account. Please, add some money to balance to proceed: https://vsegpt.ru/User/Money', 'code': 400}})\n",
            "Exception raised in Job[194]: BadRequestError(Error code: 400 - {'error': {'message': 'Potentially out of budget: 12383->700, expected price 0.30366, but you have only -5.433599 on account. Please, add some money to balance to proceed: https://vsegpt.ru/User/Money', 'code': 400}})\n",
            "Evaluating:  90%|█████████ | 226/250 [02:50<00:10,  2.26it/s]Exception raised in Job[122]: BadRequestError(Error code: 400 - {'error': {'message': 'Potentially out of budget: 58028->700, expected price 1.21656, but you have only -5.433599 on account. Please, add some money to balance to proceed: https://vsegpt.ru/User/Money', 'code': 400}})\n",
            "Exception raised in Job[50]: BadRequestError(Error code: 400 - {'error': {'message': 'Potentially out of budget: 21971->700, expected price 0.49542, but you have only -5.433599 on account. Please, add some money to balance to proceed: https://vsegpt.ru/User/Money', 'code': 400}})\n",
            "Evaluating:  91%|█████████ | 228/250 [02:51<00:10,  2.14it/s]Exception raised in Job[195]: BadRequestError(Error code: 400 - {'error': {'message': 'Potentially out of budget: 13470->700, expected price 0.3254, but you have only -5.433599 on account. Please, add some money to balance to proceed: https://vsegpt.ru/User/Money', 'code': 400}})\n",
            "Exception raised in Job[193]: BadRequestError(Error code: 400 - {'error': {'message': 'Potentially out of budget: 37242->700, expected price 0.80084, but you have only -5.433599 on account. Please, add some money to balance to proceed: https://vsegpt.ru/User/Money', 'code': 400}})\n",
            "Evaluating:  92%|█████████▏| 230/250 [02:52<00:09,  2.08it/s]Exception raised in Job[51]: BadRequestError(Error code: 400 - {'error': {'message': 'Potentially out of budget: 26181->700, expected price 0.57962, but you have only -5.433599 on account. Please, add some money to balance to proceed: https://vsegpt.ru/User/Money', 'code': 400}})\n",
            "Exception raised in Job[123]: BadRequestError(Error code: 400 - {'error': {'message': 'Potentially out of budget: 56741->700, expected price 1.19082, but you have only -5.433599 on account. Please, add some money to balance to proceed: https://vsegpt.ru/User/Money', 'code': 400}})\n",
            "Evaluating:  93%|█████████▎| 232/250 [02:53<00:08,  2.06it/s]Exception raised in Job[152]: BadRequestError(Error code: 400 - {'error': {'message': 'Potentially out of budget: 38628->700, expected price 0.82856, but you have only -5.433599 on account. Please, add some money to balance to proceed: https://vsegpt.ru/User/Money', 'code': 400}})\n",
            "Evaluating:  93%|█████████▎| 233/250 [02:54<00:10,  1.61it/s]Exception raised in Job[49]: BadRequestError(Error code: 400 - {'error': {'message': 'Potentially out of budget: 18860->700, expected price 0.4332, but you have only -5.433599 on account. Please, add some money to balance to proceed: https://vsegpt.ru/User/Money', 'code': 400}})\n",
            "Evaluating:  94%|█████████▎| 234/250 [02:55<00:11,  1.42it/s]Exception raised in Job[197]: BadRequestError(Error code: 400 - {'error': {'message': 'Potentially out of budget: 55488->700, expected price 1.16576, but you have only -5.433599 on account. Please, add some money to balance to proceed: https://vsegpt.ru/User/Money', 'code': 400}})\n",
            "Exception raised in Job[47]: BadRequestError(Error code: 400 - {'error': {'message': 'Potentially out of budget: 56877->700, expected price 1.19354, but you have only -5.433599 on account. Please, add some money to balance to proceed: https://vsegpt.ru/User/Money', 'code': 400}})\n",
            "Evaluating:  94%|█████████▍| 236/250 [02:56<00:08,  1.56it/s]Exception raised in Job[53]: BadRequestError(Error code: 400 - {'error': {'message': 'Potentially out of budget: 62410->700, expected price 1.3042, but you have only -5.433599 on account. Please, add some money to balance to proceed: https://vsegpt.ru/User/Money', 'code': 400}})\n",
            "Exception raised in Job[48]: BadRequestError(Error code: 400 - {'error': {'message': 'Potentially out of budget: 62459->700, expected price 1.30518, but you have only -5.433599 on account. Please, add some money to balance to proceed: https://vsegpt.ru/User/Money', 'code': 400}})\n",
            "Exception raised in Job[196]: BadRequestError(Error code: 400 - {'error': {'message': 'Potentially out of budget: 19373->700, expected price 0.44346, but you have only -5.433599 on account. Please, add some money to balance to proceed: https://vsegpt.ru/User/Money', 'code': 400}})\n",
            "Evaluating:  96%|█████████▌| 239/250 [02:58<00:05,  1.85it/s]Exception raised in Job[52]: BadRequestError(Error code: 400 - {'error': {'message': 'Potentially out of budget: 58450->700, expected price 1.225, but you have only -5.433599 on account. Please, add some money to balance to proceed: https://vsegpt.ru/User/Money', 'code': 400}})\n",
            "Exception raised in Job[124]: BadRequestError(Error code: 400 - {'error': {'message': 'Potentially out of budget: 22257->700, expected price 0.50114, but you have only -5.433599 on account. Please, add some money to balance to proceed: https://vsegpt.ru/User/Money', 'code': 400}})\n",
            "Exception raised in Job[44]: BadRequestError(Error code: 400 - {'error': {'message': 'Potentially out of budget: 22105->700, expected price 0.4981, but you have only -5.433599 on account. Please, add some money to balance to proceed: https://vsegpt.ru/User/Money', 'code': 400}})\n",
            "Evaluating:  97%|█████████▋| 242/250 [02:59<00:03,  2.10it/s]Exception raised in Job[120]: BadRequestError(Error code: 400 - {'error': {'message': 'Potentially out of budget: 15122->700, expected price 0.35844, but you have only -5.433599 on account. Please, add some money to balance to proceed: https://vsegpt.ru/User/Money', 'code': 400}})\n",
            "Exception raised in Job[117]: BadRequestError(Error code: 400 - {'error': {'message': 'Potentially out of budget: 39892->700, expected price 0.85384, but you have only -5.433599 on account. Please, add some money to balance to proceed: https://vsegpt.ru/User/Money', 'code': 400}})\n",
            "Exception raised in Job[125]: BadRequestError(Error code: 400 - {'error': {'message': 'Potentially out of budget: 11159->700, expected price 0.27918, but you have only -5.433599 on account. Please, add some money to balance to proceed: https://vsegpt.ru/User/Money', 'code': 400}})\n",
            "Evaluating:  98%|█████████▊| 245/250 [03:00<00:02,  2.15it/s]Exception raised in Job[184]: BadRequestError(Error code: 400 - {'error': {'message': 'Potentially out of budget: 16067->700, expected price 0.37734, but you have only -5.433599 on account. Please, add some money to balance to proceed: https://vsegpt.ru/User/Money', 'code': 400}})\n",
            "Evaluating:  98%|█████████▊| 246/250 [03:02<00:02,  1.48it/s]Exception raised in Job[42]: BadRequestError(Error code: 400 - {'error': {'message': 'Potentially out of budget: 54119->700, expected price 1.13838, but you have only -5.433599 on account. Please, add some money to balance to proceed: https://vsegpt.ru/User/Money', 'code': 400}})\n",
            "Evaluating:  99%|█████████▉| 247/250 [03:06<00:03,  1.28s/it]Exception raised in Job[29]: BadRequestError(Error code: 400 - {'error': {'message': 'Potentially out of budget: 7993->700, expected price 0.21586, but you have only -5.433599 on account. Please, add some money to balance to proceed: https://vsegpt.ru/User/Money', 'code': 400}})\n",
            "Evaluating:  99%|█████████▉| 248/250 [03:16<00:05,  2.88s/it]Exception raised in Job[20]: BadRequestError(Error code: 400 - {'error': {'message': 'Potentially out of budget: 10044->700, expected price 0.25688, but you have only -5.433599 on account. Please, add some money to balance to proceed: https://vsegpt.ru/User/Money', 'code': 400}})\n",
            "Evaluating: 100%|█████████▉| 249/250 [03:17<00:02,  2.55s/it]Exception raised in Job[174]: BadRequestError(Error code: 400 - {'error': {'message': 'Potentially out of budget: 5429->700, expected price 0.16458, but you have only -5.433599 on account. Please, add some money to balance to proceed: https://vsegpt.ru/User/Money', 'code': 400}})\n",
            "Evaluating: 100%|██████████| 250/250 [03:27<00:00,  1.20it/s]\n"
          ]
        },
        {
          "name": "stdout",
          "output_type": "stream",
          "text": [
            "Saved results to 'results_function.csv'\n",
            "Metrics: {'context_precision': 0.9747, 'faithfulness': 0.5464, 'answer_relevancy': 0.6543, 'context_recall': 0.8889, 'answer_correctness': 0.5396}\n"
          ]
        }
      ],
      "source": [
        "evaler.evaluate_pipe(get_answer)"
      ]
    }
  ],
  "metadata": {
    "accelerator": "GPU",
    "colab": {
      "gpuType": "L4",
      "machine_shape": "hm",
      "provenance": []
    },
    "kernelspec": {
      "display_name": "Python 3",
      "name": "python3"
    },
    "language_info": {
      "codemirror_mode": {
        "name": "ipython",
        "version": 3
      },
      "file_extension": ".py",
      "mimetype": "text/x-python",
      "name": "python",
      "nbconvert_exporter": "python",
      "pygments_lexer": "ipython3",
      "version": "3.10.15"
    }
  },
  "nbformat": 4,
  "nbformat_minor": 0
}
